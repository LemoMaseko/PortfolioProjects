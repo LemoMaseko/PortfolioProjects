{
 "cells": [
  {
   "cell_type": "code",
   "execution_count": 1,
   "id": "f99a7da0",
   "metadata": {},
   "outputs": [],
   "source": [
    "import json\n",
    "import pandas as pd\n",
    "import sqlalchemy\n",
    "import os\n",
    "import pandasql as ps"
   ]
  },
  {
   "cell_type": "code",
   "execution_count": 2,
   "id": "ea8f2559",
   "metadata": {},
   "outputs": [],
   "source": [
    "# Create a SQL connection string.\n",
    "sql_connection_string = f\"sqlite:///database.db\"\n",
    "\n",
    "# Create an engine object.\n",
    "engine = sqlalchemy.create_engine(sql_connection_string)\n"
   ]
  },
  {
   "cell_type": "code",
   "execution_count": null,
   "id": "8d21bc16",
   "metadata": {},
   "outputs": [],
   "source": [
    "# 1 Read the JSON data from the file.\n",
    "file_path =r'data.json'\n",
    "\n",
    "# Create a Pandas DataFrame\n",
    "data = pd.read_json(file_path)\n"
   ]
  },
  {
   "cell_type": "code",
   "execution_count": 38,
   "id": "ac40ccce",
   "metadata": {},
   "outputs": [],
   "source": [
    "\n",
    "metadata = sqlalchemy.MetaData(schema='schema')\n",
    "\n",
    "table_schema = sqlalchemy.Table(\n",
    "    \"json_data\",\n",
    "    metadata,  \n",
    "    sqlalchemy.Column(\"name\", sqlalchemy.String),\n",
    "    sqlalchemy.Column(\"phone\", sqlalchemy.Integer),\n",
    "    sqlalchemy.Column(\"email\", sqlalchemy.String(length=320)),\n",
    "    sqlalchemy.Column(\"address\", sqlalchemy.String(length=320)),\n",
    "    sqlalchemy.Column(\"postalZip\", sqlalchemy.Integer),\n",
    "    sqlalchemy.Column(\"country\", sqlalchemy.String),\n",
    "    sqlalchemy.Column(\"list\", sqlalchemy.String(length=255)),\n",
    "    sqlalchemy.Column(\"numberrange\", sqlalchemy.Integer),\n",
    "    sqlalchemy.Column(\"currency\", sqlalchemy.Float),\n",
    "    sqlalchemy.Column(\"alphanumeric\", sqlalchemy.String(length=255))\n",
    ")\n"
   ]
  },
  {
   "cell_type": "code",
   "execution_count": null,
   "id": "6210776b",
   "metadata": {},
   "outputs": [],
   "source": [
    "# Create the SQL table if it does not already exist.\n",
    "#table_schema.create(engine, checkfirst=True)\n",
    "\n",
    "# Read the JSON file into a pandas DataFrame\n",
    "json_file_path = 'data.json'\n",
    "data = pd.read_json(json_file_path)\n",
    "\n",
    "# Import the JSON data into the SQL table.\n",
    "data.to_sql(\"json_data\", engine, if_exists=\"append\", index=False)\n",
    "\n",
    "# Delete the original JSON file after successful insertion.\n",
    "if os.path.exists(json_file_path):\n",
    "    os.remove(json_file_path)\n",
    "\n"
   ]
  },
  {
   "cell_type": "code",
   "execution_count": null,
   "id": "75583b73",
   "metadata": {},
   "outputs": [],
   "source": []
  }
 ],
 "metadata": {
  "kernelspec": {
   "display_name": "Python 3 (ipykernel)",
   "language": "python",
   "name": "python3"
  },
  "language_info": {
   "codemirror_mode": {
    "name": "ipython",
    "version": 3
   },
   "file_extension": ".py",
   "mimetype": "text/x-python",
   "name": "python",
   "nbconvert_exporter": "python",
   "pygments_lexer": "ipython3",
   "version": "3.11.5"
  }
 },
 "nbformat": 4,
 "nbformat_minor": 5
}
